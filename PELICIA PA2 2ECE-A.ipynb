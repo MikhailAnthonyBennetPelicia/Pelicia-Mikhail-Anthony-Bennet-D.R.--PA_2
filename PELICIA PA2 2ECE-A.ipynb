{
 "cells": [
  {
   "cell_type": "markdown",
   "id": "61d438ec-b0f8-462f-8133-95de268fbcf5",
   "metadata": {},
   "source": [
    "Normalization Problem"
   ]
  },
  {
   "cell_type": "code",
   "execution_count": 1,
   "id": "478124f4-53e2-497e-9006-3bdbcba6cf10",
   "metadata": {},
   "outputs": [],
   "source": [
    "import numpy as np"
   ]
  },
  {
   "cell_type": "code",
   "execution_count": 4,
   "id": "0096979e-8939-445e-be11-dbab440bff42",
   "metadata": {},
   "outputs": [
    {
     "name": "stdout",
     "output_type": "stream",
     "text": [
      "Array X:\n",
      "[[0.8522561  0.97737028 0.73859814 0.77789661 0.77219832]\n",
      " [0.814912   0.07064906 0.16828461 0.42560502 0.64177413]\n",
      " [0.11738743 0.46972187 0.03258138 0.00718669 0.03692043]\n",
      " [0.38855576 0.59069388 0.46139666 0.76790514 0.79295697]\n",
      " [0.36466525 0.40532393 0.72410153 0.75280497 0.08782575]]\n"
     ]
    }
   ],
   "source": [
    "#This creates the random 5X5 array \"X\"\n",
    "X = np.random.random((5,5))\n",
    "#This displays the array\n",
    "print(\"Array X:\")\n",
    "print(X)"
   ]
  },
  {
   "cell_type": "code",
   "execution_count": 14,
   "id": "8f694523-516c-4aca-bd75-6de82526668f",
   "metadata": {},
   "outputs": [
    {
     "name": "stdout",
     "output_type": "stream",
     "text": [
      "Normalized X:\n",
      "[[ 1.19809404  1.61140975  0.822624    0.95244683  0.9336225 ]\n",
      " [ 1.07472748 -1.38395138 -1.06141152 -0.21135137  0.50276509]\n",
      " [-1.22955077 -0.065611   -1.50970827 -1.59359983 -1.49537418]\n",
      " [-0.33374393  0.33402106 -0.09311339  0.91943992  1.00219884]\n",
      " [-0.41266642 -0.27835014  0.77473432  0.8695564  -1.32720804]]\n"
     ]
    }
   ],
   "source": [
    "#This normalizes the array\n",
    "X_normalized = (X - X.mean()) / X.std()\n",
    "#This prints the normalized array\n",
    "print(\"Normalized X:\")\n",
    "print(X_normalized)\n",
    "\n",
    "#This saves the normalized array as \"X_normalized.npy\"\n",
    "np.save('X_normalized.npy', X_normalized)"
   ]
  },
  {
   "cell_type": "markdown",
   "id": "662e036d-025f-4fba-b8c9-e4a42e21e231",
   "metadata": {},
   "source": [
    "Divisible by 3 Problem"
   ]
  },
  {
   "cell_type": "code",
   "execution_count": 16,
   "id": "d6586e91-c211-43e6-b33e-6ca97e55e582",
   "metadata": {},
   "outputs": [],
   "source": [
    "import numpy as np"
   ]
  },
  {
   "cell_type": "code",
   "execution_count": 18,
   "id": "6bb7b1c0-4511-475d-a882-e4208e7e581b",
   "metadata": {},
   "outputs": [],
   "source": [
    "#This creates an array of the first one hundred positive integers\n",
    "hundred = np.arange(1,101)"
   ]
  },
  {
   "cell_type": "code",
   "execution_count": 19,
   "id": "beca11b9-efb9-41b9-9fe5-925902b468e9",
   "metadata": {},
   "outputs": [
    {
     "name": "stdout",
     "output_type": "stream",
     "text": [
      "The Array: \n",
      "[[    1     4     9    16    25    36    49    64    81   100]\n",
      " [  121   144   169   196   225   256   289   324   361   400]\n",
      " [  441   484   529   576   625   676   729   784   841   900]\n",
      " [  961  1024  1089  1156  1225  1296  1369  1444  1521  1600]\n",
      " [ 1681  1764  1849  1936  2025  2116  2209  2304  2401  2500]\n",
      " [ 2601  2704  2809  2916  3025  3136  3249  3364  3481  3600]\n",
      " [ 3721  3844  3969  4096  4225  4356  4489  4624  4761  4900]\n",
      " [ 5041  5184  5329  5476  5625  5776  5929  6084  6241  6400]\n",
      " [ 6561  6724  6889  7056  7225  7396  7569  7744  7921  8100]\n",
      " [ 8281  8464  8649  8836  9025  9216  9409  9604  9801 10000]]\n"
     ]
    }
   ],
   "source": [
    "#This squares the numbers and shapes the array into a 10X10 grid\n",
    "tenbyten = hundred.reshape(10, 10) **2\n",
    "print(\"The Array: \")\n",
    "print(tenbyten)"
   ]
  },
  {
   "cell_type": "code",
   "execution_count": 21,
   "id": "4be97971-2cd4-4d0e-9dc2-fd4c07b7c749",
   "metadata": {},
   "outputs": [
    {
     "name": "stdout",
     "output_type": "stream",
     "text": [
      "The elements divisible by 3: \n",
      "[   9   36   81  144  225  324  441  576  729  900 1089 1296 1521 1764\n",
      " 2025 2304 2601 2916 3249 3600 3969 4356 4761 5184 5625 6084 6561 7056\n",
      " 7569 8100 8649 9216 9801]\n"
     ]
    }
   ],
   "source": [
    "#This determines all the elements that are divisible by 3\n",
    "div_by_3 = tenbyten[tenbyten % 3 == 0]\n",
    "print(\"The elements divisible by 3: \")\n",
    "print(div_by_3)\n",
    "\n",
    "#This saves the array as \"div_by_3.npy\"\n",
    "np.save('div_by_3.npy', div_by_3)"
   ]
  },
  {
   "cell_type": "code",
   "execution_count": null,
   "id": "d7704fb9-f1f9-4d0a-abe7-ce2f7a6b4b78",
   "metadata": {},
   "outputs": [],
   "source": []
  }
 ],
 "metadata": {
  "kernelspec": {
   "display_name": "Python [conda env:base] *",
   "language": "python",
   "name": "conda-base-py"
  },
  "language_info": {
   "codemirror_mode": {
    "name": "ipython",
    "version": 3
   },
   "file_extension": ".py",
   "mimetype": "text/x-python",
   "name": "python",
   "nbconvert_exporter": "python",
   "pygments_lexer": "ipython3",
   "version": "3.13.5"
  }
 },
 "nbformat": 4,
 "nbformat_minor": 5
}
